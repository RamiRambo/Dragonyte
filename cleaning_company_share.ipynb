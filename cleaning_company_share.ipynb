{
 "cells": [
  {
   "cell_type": "code",
   "execution_count": 213,
   "metadata": {},
   "outputs": [],
   "source": [
    "import pandas as pd"
   ]
  },
  {
   "cell_type": "code",
   "execution_count": 214,
   "metadata": {},
   "outputs": [],
   "source": [
    "company_share = pd.read_csv('Untouched_Business_case/Data/Company_Share_GBO_unit.csv', delimiter=';')\n"
   ]
  },
  {
   "cell_type": "code",
   "execution_count": 215,
   "metadata": {},
   "outputs": [
    {
     "data": {
      "text/html": [
       "<div>\n",
       "<style scoped>\n",
       "    .dataframe tbody tr th:only-of-type {\n",
       "        vertical-align: middle;\n",
       "    }\n",
       "\n",
       "    .dataframe tbody tr th {\n",
       "        vertical-align: top;\n",
       "    }\n",
       "\n",
       "    .dataframe thead th {\n",
       "        text-align: right;\n",
       "    }\n",
       "</style>\n",
       "<table border=\"1\" class=\"dataframe\">\n",
       "  <thead>\n",
       "    <tr style=\"text-align: right;\">\n",
       "      <th></th>\n",
       "      <th>Location</th>\n",
       "      <th>Industry</th>\n",
       "      <th>Subcategory_ID</th>\n",
       "      <th>Hierarchy_Level</th>\n",
       "      <th>Data_Type</th>\n",
       "      <th>Global_Brand_Owner</th>\n",
       "      <th>Unit</th>\n",
       "      <th>Year_text</th>\n",
       "      <th>Year_date</th>\n",
       "      <th>Year_minus_2016</th>\n",
       "      <th>Volume</th>\n",
       "    </tr>\n",
       "  </thead>\n",
       "  <tbody>\n",
       "    <tr>\n",
       "      <th>0</th>\n",
       "      <td>NaN</td>\n",
       "      <td>NaN</td>\n",
       "      <td>NaN</td>\n",
       "      <td>NaN</td>\n",
       "      <td>NaN</td>\n",
       "      <td>NaN</td>\n",
       "      <td>NaN</td>\n",
       "      <td>NaN</td>\n",
       "      <td>NaN</td>\n",
       "      <td>NaN</td>\n",
       "      <td>NaN</td>\n",
       "    </tr>\n",
       "    <tr>\n",
       "      <th>1</th>\n",
       "      <td>8.0</td>\n",
       "      <td>Alcoholic Drinks</td>\n",
       "      <td>13.0</td>\n",
       "      <td>1.0</td>\n",
       "      <td>Total Volume</td>\n",
       "      <td>Anheuser-Busch InBev NV</td>\n",
       "      <td>million litres</td>\n",
       "      <td>2016.0</td>\n",
       "      <td>31-12-16</td>\n",
       "      <td>4.0</td>\n",
       "      <td>35506,37732</td>\n",
       "    </tr>\n",
       "    <tr>\n",
       "      <th>2</th>\n",
       "      <td>NaN</td>\n",
       "      <td>NaN</td>\n",
       "      <td>NaN</td>\n",
       "      <td>NaN</td>\n",
       "      <td>NaN</td>\n",
       "      <td>NaN</td>\n",
       "      <td>NaN</td>\n",
       "      <td>NaN</td>\n",
       "      <td>NaN</td>\n",
       "      <td>NaN</td>\n",
       "      <td>NaN</td>\n",
       "    </tr>\n",
       "    <tr>\n",
       "      <th>3</th>\n",
       "      <td>8.0</td>\n",
       "      <td>Alcoholic Drinks</td>\n",
       "      <td>13.0</td>\n",
       "      <td>1.0</td>\n",
       "      <td>Total Volume</td>\n",
       "      <td>Heineken NV</td>\n",
       "      <td>million litres</td>\n",
       "      <td>2016.0</td>\n",
       "      <td>Saturday, 31 Dec 2016</td>\n",
       "      <td>4.0</td>\n",
       "      <td>18482,5958</td>\n",
       "    </tr>\n",
       "    <tr>\n",
       "      <th>4</th>\n",
       "      <td>NaN</td>\n",
       "      <td>NaN</td>\n",
       "      <td>NaN</td>\n",
       "      <td>NaN</td>\n",
       "      <td>NaN</td>\n",
       "      <td>NaN</td>\n",
       "      <td>NaN</td>\n",
       "      <td>NaN</td>\n",
       "      <td>NaN</td>\n",
       "      <td>NaN</td>\n",
       "      <td>NaN</td>\n",
       "    </tr>\n",
       "    <tr>\n",
       "      <th>...</th>\n",
       "      <td>...</td>\n",
       "      <td>...</td>\n",
       "      <td>...</td>\n",
       "      <td>...</td>\n",
       "      <td>...</td>\n",
       "      <td>...</td>\n",
       "      <td>...</td>\n",
       "      <td>...</td>\n",
       "      <td>...</td>\n",
       "      <td>...</td>\n",
       "      <td>...</td>\n",
       "    </tr>\n",
       "    <tr>\n",
       "      <th>43331</th>\n",
       "      <td>8.0</td>\n",
       "      <td>Alcoholic Drinks</td>\n",
       "      <td>15.0</td>\n",
       "      <td>1.0</td>\n",
       "      <td>Total Volume</td>\n",
       "      <td>Rosspirtprom FGUP</td>\n",
       "      <td>000 litres</td>\n",
       "      <td>2016.0</td>\n",
       "      <td>31 12 2016</td>\n",
       "      <td>4.0</td>\n",
       "      <td>3,708013795</td>\n",
       "    </tr>\n",
       "    <tr>\n",
       "      <th>43332</th>\n",
       "      <td>NaN</td>\n",
       "      <td>NaN</td>\n",
       "      <td>NaN</td>\n",
       "      <td>NaN</td>\n",
       "      <td>NaN</td>\n",
       "      <td>NaN</td>\n",
       "      <td>NaN</td>\n",
       "      <td>NaN</td>\n",
       "      <td>NaN</td>\n",
       "      <td>NaN</td>\n",
       "      <td>NaN</td>\n",
       "    </tr>\n",
       "    <tr>\n",
       "      <th>43333</th>\n",
       "      <td>8.0</td>\n",
       "      <td>Alcoholic Drinks</td>\n",
       "      <td>15.0</td>\n",
       "      <td>1.0</td>\n",
       "      <td>Total Volume</td>\n",
       "      <td>Private Label</td>\n",
       "      <td>000 litres</td>\n",
       "      <td>2016.0</td>\n",
       "      <td>31-12-16</td>\n",
       "      <td>4.0</td>\n",
       "      <td>307,7663666</td>\n",
       "    </tr>\n",
       "    <tr>\n",
       "      <th>43334</th>\n",
       "      <td>NaN</td>\n",
       "      <td>NaN</td>\n",
       "      <td>NaN</td>\n",
       "      <td>NaN</td>\n",
       "      <td>NaN</td>\n",
       "      <td>NaN</td>\n",
       "      <td>NaN</td>\n",
       "      <td>NaN</td>\n",
       "      <td>NaN</td>\n",
       "      <td>NaN</td>\n",
       "      <td>NaN</td>\n",
       "    </tr>\n",
       "    <tr>\n",
       "      <th>43335</th>\n",
       "      <td>8.0</td>\n",
       "      <td>Alcoholic Drinks</td>\n",
       "      <td>15.0</td>\n",
       "      <td>1.0</td>\n",
       "      <td>Total Volume</td>\n",
       "      <td>Others</td>\n",
       "      <td>000 litres</td>\n",
       "      <td>2016.0</td>\n",
       "      <td>31-Dec-16</td>\n",
       "      <td>4.0</td>\n",
       "      <td>8263,549123</td>\n",
       "    </tr>\n",
       "  </tbody>\n",
       "</table>\n",
       "<p>43336 rows × 11 columns</p>\n",
       "</div>"
      ],
      "text/plain": [
       "       Location          Industry  Subcategory_ID  Hierarchy_Level  \\\n",
       "0           NaN               NaN             NaN              NaN   \n",
       "1           8.0  Alcoholic Drinks            13.0              1.0   \n",
       "2           NaN               NaN             NaN              NaN   \n",
       "3           8.0  Alcoholic Drinks            13.0              1.0   \n",
       "4           NaN               NaN             NaN              NaN   \n",
       "...         ...               ...             ...              ...   \n",
       "43331       8.0  Alcoholic Drinks            15.0              1.0   \n",
       "43332       NaN               NaN             NaN              NaN   \n",
       "43333       8.0  Alcoholic Drinks            15.0              1.0   \n",
       "43334       NaN               NaN             NaN              NaN   \n",
       "43335       8.0  Alcoholic Drinks            15.0              1.0   \n",
       "\n",
       "          Data_Type       Global_Brand_Owner            Unit  Year_text  \\\n",
       "0               NaN                      NaN             NaN        NaN   \n",
       "1      Total Volume  Anheuser-Busch InBev NV  million litres     2016.0   \n",
       "2               NaN                      NaN             NaN        NaN   \n",
       "3      Total Volume              Heineken NV  million litres     2016.0   \n",
       "4               NaN                      NaN             NaN        NaN   \n",
       "...             ...                      ...             ...        ...   \n",
       "43331  Total Volume        Rosspirtprom FGUP      000 litres     2016.0   \n",
       "43332           NaN                      NaN             NaN        NaN   \n",
       "43333  Total Volume            Private Label      000 litres     2016.0   \n",
       "43334           NaN                      NaN             NaN        NaN   \n",
       "43335  Total Volume                   Others      000 litres     2016.0   \n",
       "\n",
       "                   Year_date  Year_minus_2016       Volume  \n",
       "0                        NaN              NaN          NaN  \n",
       "1                   31-12-16              4.0  35506,37732  \n",
       "2                        NaN              NaN          NaN  \n",
       "3      Saturday, 31 Dec 2016              4.0   18482,5958  \n",
       "4                        NaN              NaN          NaN  \n",
       "...                      ...              ...          ...  \n",
       "43331             31 12 2016              4.0  3,708013795  \n",
       "43332                    NaN              NaN          NaN  \n",
       "43333               31-12-16              4.0  307,7663666  \n",
       "43334                    NaN              NaN          NaN  \n",
       "43335              31-Dec-16              4.0  8263,549123  \n",
       "\n",
       "[43336 rows x 11 columns]"
      ]
     },
     "execution_count": 215,
     "metadata": {},
     "output_type": "execute_result"
    }
   ],
   "source": [
    "company_share"
   ]
  },
  {
   "cell_type": "code",
   "execution_count": 216,
   "metadata": {},
   "outputs": [],
   "source": [
    "# Cleaned all the lines where there is no value at all.\n",
    "company_share = company_share.dropna(axis = 0, how = 'all')"
   ]
  },
  {
   "cell_type": "code",
   "execution_count": 218,
   "metadata": {},
   "outputs": [
    {
     "name": "stderr",
     "output_type": "stream",
     "text": [
      "/var/folders/9g/mm9pdxg52dn6rg0rtfk14syc0000gn/T/ipykernel_3712/268751810.py:1: UserWarning: Could not infer format, so each element will be parsed individually, falling back to `dateutil`. To ensure parsing is consistent and as-expected, please specify a format.\n",
      "  company_share['Year_date'] = pd.to_datetime(company_share['Year_date'])\n",
      "/var/folders/9g/mm9pdxg52dn6rg0rtfk14syc0000gn/T/ipykernel_3712/268751810.py:1: SettingWithCopyWarning: \n",
      "A value is trying to be set on a copy of a slice from a DataFrame.\n",
      "Try using .loc[row_indexer,col_indexer] = value instead\n",
      "\n",
      "See the caveats in the documentation: https://pandas.pydata.org/pandas-docs/stable/user_guide/indexing.html#returning-a-view-versus-a-copy\n",
      "  company_share['Year_date'] = pd.to_datetime(company_share['Year_date'])\n",
      "/var/folders/9g/mm9pdxg52dn6rg0rtfk14syc0000gn/T/ipykernel_3712/268751810.py:2: SettingWithCopyWarning: \n",
      "A value is trying to be set on a copy of a slice from a DataFrame.\n",
      "Try using .loc[row_indexer,col_indexer] = value instead\n",
      "\n",
      "See the caveats in the documentation: https://pandas.pydata.org/pandas-docs/stable/user_guide/indexing.html#returning-a-view-versus-a-copy\n",
      "  company_share['Year_date'] = company_share['Year_date'].dt.strftime(\"%d-%m-%Y\")\n"
     ]
    }
   ],
   "source": [
    "# Unification of year-date format.\n",
    "company_share['Year_date'] = pd.to_datetime(company_share['Year_date'])\n",
    "company_share['Year_date'] = company_share['Year_date'].dt.strftime(\"%d-%m-%Y\")"
   ]
  },
  {
   "cell_type": "code",
   "execution_count": 219,
   "metadata": {},
   "outputs": [
    {
     "data": {
      "text/plain": [
       "array(['31-12-2016', '31-12-2017', '31-12-2018', '31-12-2019',\n",
       "       '31-12-2020', '31-12-2021'], dtype=object)"
      ]
     },
     "execution_count": 219,
     "metadata": {},
     "output_type": "execute_result"
    }
   ],
   "source": [
    "company_share['Year_date'].unique()"
   ]
  },
  {
   "cell_type": "code",
   "execution_count": 220,
   "metadata": {},
   "outputs": [
    {
     "data": {
      "text/plain": [
       "(21668, 11)"
      ]
     },
     "execution_count": 220,
     "metadata": {},
     "output_type": "execute_result"
    }
   ],
   "source": [
    "company_share.shape"
   ]
  },
  {
   "cell_type": "code",
   "execution_count": 221,
   "metadata": {},
   "outputs": [
    {
     "name": "stderr",
     "output_type": "stream",
     "text": [
      "/var/folders/9g/mm9pdxg52dn6rg0rtfk14syc0000gn/T/ipykernel_3712/3828042781.py:1: SettingWithCopyWarning: \n",
      "A value is trying to be set on a copy of a slice from a DataFrame\n",
      "\n",
      "See the caveats in the documentation: https://pandas.pydata.org/pandas-docs/stable/user_guide/indexing.html#returning-a-view-versus-a-copy\n",
      "  company_share.drop_duplicates(inplace=True)\n"
     ]
    }
   ],
   "source": [
    "company_share.drop_duplicates(inplace=True)"
   ]
  },
  {
   "cell_type": "code",
   "execution_count": 222,
   "metadata": {},
   "outputs": [],
   "source": [
    "# Get rid off unnecessary balnk spaces.\n",
    "company_share = company_share.applymap(lambda x: x.strip() if isinstance(x, str) else x)"
   ]
  },
  {
   "cell_type": "code",
   "execution_count": 223,
   "metadata": {},
   "outputs": [],
   "source": [
    "company_share['Volume'] = company_share['Volume'].str.replace(',', '.').astype(float)"
   ]
  },
  {
   "cell_type": "code",
   "execution_count": 224,
   "metadata": {},
   "outputs": [],
   "source": [
    "# Correcting volume in order to reflect units as well.\n",
    "company_share.loc[company_share['Unit'] == 'million litres', 'volume_litres'] = company_share['Volume'] * 1000000.0\n",
    "company_share.loc[company_share['Unit'] == '000 litres', 'volume_litres'] = company_share['Volume'] * 1000.0\n"
   ]
  },
  {
   "cell_type": "code",
   "execution_count": 225,
   "metadata": {},
   "outputs": [],
   "source": [
    "#Adding Locations as strings as a new column.\n",
    "mapping_location = {1.0:'Asia Pacific', 2.0:'Australasia', 3.0:'Eastern Europe', 4.0:'Latin America', 5.0:'Middle East and Africa', 6.0:'North America', 7.0:'Western Europe', 8.0:'World'}\n",
    "company_share['Location_text'] = company_share['Location']\n",
    "company_share['Location_text'].replace(mapping_location, inplace=True)"
   ]
  },
  {
   "cell_type": "code",
   "execution_count": 226,
   "metadata": {},
   "outputs": [],
   "source": [
    "#Adding subcategories as strings as a new column.\n",
    "subcategories = pd.read_csv('Untouched_Business_case/Data/Subcategories.csv', index_col='id')\n",
    "subcategories_short = subcategories['Name']\n",
    "mapping_subcategories = subcategories_short.to_dict()\n",
    "company_share['Subcategory'] = company_share['Subcategory_ID']\n",
    "company_share['Subcategory'].replace(mapping_subcategories, inplace=True)"
   ]
  },
  {
   "cell_type": "code",
   "execution_count": 230,
   "metadata": {},
   "outputs": [],
   "source": [
    "company_share.to_csv('company_share_cleaned.csv', index=False)"
   ]
  },
  {
   "cell_type": "code",
   "execution_count": 30,
   "metadata": {},
   "outputs": [],
   "source": [
    "market_size = pd.read_csv('Cleaned_data_sets/market_size_cleaned.csv')\n",
    "channel = pd.read_csv('Cleaned_data_sets/clean_channels.csv')\n",
    "company_share = pd.read_csv('Cleaned_data_sets/company_share_cleaned.csv')\n"
   ]
  },
  {
   "cell_type": "code",
   "execution_count": 49,
   "metadata": {},
   "outputs": [
    {
     "data": {
      "text/plain": [
       "array([13.,  8.,  4.,  9., 12., 10., 11.,  7.,  3.,  2.,  1., 17., 16.])"
      ]
     },
     "execution_count": 49,
     "metadata": {},
     "output_type": "execute_result"
    }
   ],
   "source": [
    "dragon_table = company_share[company_share['Global_Brand_Owner'] == 'Dragonyte Brewery']\n",
    "dragon_table['Subcategory_ID'].unique()"
   ]
  },
  {
   "cell_type": "code",
   "execution_count": 65,
   "metadata": {},
   "outputs": [
    {
     "data": {
      "text/plain": [
       "array([2016., 2017., 2018., 2019., 2020., 2021.])"
      ]
     },
     "execution_count": 65,
     "metadata": {},
     "output_type": "execute_result"
    }
   ],
   "source": [
    "dragon_table['Year_text'].unique()"
   ]
  },
  {
   "cell_type": "code",
   "execution_count": 188,
   "metadata": {},
   "outputs": [
    {
     "data": {
      "text/plain": [
       "72052.78524"
      ]
     },
     "execution_count": 188,
     "metadata": {},
     "output_type": "execute_result"
    }
   ],
   "source": [
    "sum(dragon_table[(dragon_table['Year_text'] == 2016.0) \n",
    "             & (dragon_table['Subcategory_ID'] == 16.0)]['volume_litres'])\n"
   ]
  },
  {
   "cell_type": "code",
   "execution_count": 200,
   "metadata": {},
   "outputs": [
    {
     "data": {
      "text/plain": [
       "28028193681.730995"
      ]
     },
     "execution_count": 200,
     "metadata": {},
     "output_type": "execute_result"
    }
   ],
   "source": [
    "sum(company_share[(company_share['Year_text'] == 2016.0) \n",
    "             & (company_share['Subcategory_ID'] == 14.0) & (company_share['Location'] == 8.0)]['volume_litres'])"
   ]
  },
  {
   "cell_type": "code",
   "execution_count": 51,
   "metadata": {},
   "outputs": [
    {
     "data": {
      "text/plain": [
       "array(['Beer', 'Lager', 'Standard Lager', 'Dark Beer', 'Economy Lager',\n",
       "       'Premium Lager', 'Mid-Priced Lager', 'Non Alcoholic Beer',\n",
       "       'Flavoured/Mixed Lager', 'Weissbier/Weizen/Wheat Beer', 'Stout',\n",
       "       'Sorghum', 'Ale', 'Cider/Perry', 'RTDs/High-Strength Premixes',\n",
       "       'Wine', 'Spirits'], dtype=object)"
      ]
     },
     "execution_count": 51,
     "metadata": {},
     "output_type": "execute_result"
    }
   ],
   "source": [
    "company_share['Subcategory'].unique()"
   ]
  },
  {
   "cell_type": "code",
   "execution_count": 50,
   "metadata": {},
   "outputs": [
    {
     "data": {
      "text/plain": [
       "array(['Beer', 'Lager', 'Standard Lager', 'Dark Beer', 'Economy Lager',\n",
       "       'Premium Lager', 'Mid-Priced Lager', 'Non Alcoholic Beer',\n",
       "       'Flavoured/Mixed Lager', 'Weissbier/Weizen/Wheat Beer', 'Ale',\n",
       "       'Cider/Perry', 'RTDs/High-Strength Premixes'], dtype=object)"
      ]
     },
     "execution_count": 50,
     "metadata": {},
     "output_type": "execute_result"
    }
   ],
   "source": [
    "dragon_table['Subcategory'].unique()"
   ]
  },
  {
   "cell_type": "code",
   "execution_count": 195,
   "metadata": {},
   "outputs": [],
   "source": [
    "# Correcting volumes and units in market size's volume column.\n",
    "for index,value in market_size[\"Volume (liters)\"].items():\n",
    "    if int(str(value).split(\".\")[1]) > 0:\n",
    "        market_size.loc[index,\"Volume (liters)\"] = value*1000.0"
   ]
  },
  {
   "cell_type": "code",
   "execution_count": 196,
   "metadata": {},
   "outputs": [],
   "source": [
    "# Correcting volumes and units in market size's RSP column.\n",
    "for index,value in market_size[\"RSP (USD million)\"].items():\n",
    "    if int(str(value).split(\".\")[1]) > 0:\n",
    "        market_size.loc[index,\"RSP (USD million)\"] = value*1000.0"
   ]
  },
  {
   "cell_type": "code",
   "execution_count": 197,
   "metadata": {},
   "outputs": [],
   "source": [
    "# This market size data is created for test purposes. But in order to reflect correct volumes, it is also used in some graphs.\n",
    "market_size.to_csv('./Cleaned_data_sets/test_market_size.csv')"
   ]
  }
 ],
 "metadata": {
  "kernelspec": {
   "display_name": "venv",
   "language": "python",
   "name": "python3"
  },
  "language_info": {
   "codemirror_mode": {
    "name": "ipython",
    "version": 3
   },
   "file_extension": ".py",
   "mimetype": "text/x-python",
   "name": "python",
   "nbconvert_exporter": "python",
   "pygments_lexer": "ipython3",
   "version": "3.11.3"
  },
  "orig_nbformat": 4
 },
 "nbformat": 4,
 "nbformat_minor": 2
}
