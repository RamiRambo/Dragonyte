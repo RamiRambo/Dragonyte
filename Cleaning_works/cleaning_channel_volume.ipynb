{
 "cells": [
  {
   "cell_type": "code",
   "execution_count": 1,
   "metadata": {},
   "outputs": [],
   "source": [
    "import pandas as pd\n",
    "import numpy as np"
   ]
  },
  {
   "cell_type": "markdown",
   "metadata": {},
   "source": [
    "Channel_Volume Cleaning"
   ]
  },
  {
   "cell_type": "code",
   "execution_count": 2,
   "metadata": {},
   "outputs": [],
   "source": [
    "channel_volume = pd.read_csv('Untouched_Business_case/Data/Channel_Volume.csv')"
   ]
  },
  {
   "cell_type": "code",
   "execution_count": 31,
   "metadata": {},
   "outputs": [
    {
     "data": {
      "text/html": [
       "<div>\n",
       "<style scoped>\n",
       "    .dataframe tbody tr th:only-of-type {\n",
       "        vertical-align: middle;\n",
       "    }\n",
       "\n",
       "    .dataframe tbody tr th {\n",
       "        vertical-align: top;\n",
       "    }\n",
       "\n",
       "    .dataframe thead th {\n",
       "        text-align: right;\n",
       "    }\n",
       "</style>\n",
       "<table border=\"1\" class=\"dataframe\">\n",
       "  <thead>\n",
       "    <tr style=\"text-align: right;\">\n",
       "      <th></th>\n",
       "      <th>Location</th>\n",
       "      <th>Industry</th>\n",
       "      <th>Edition</th>\n",
       "      <th>Category</th>\n",
       "      <th>Subcategory</th>\n",
       "      <th>Hierarchy_Level</th>\n",
       "      <th>Data_Type</th>\n",
       "      <th>Outlet</th>\n",
       "      <th>Outlet_Hierarchy</th>\n",
       "      <th>Unit</th>\n",
       "      <th>Year_text</th>\n",
       "      <th>Year_date</th>\n",
       "      <th>Volume</th>\n",
       "      <th>Year_date_format</th>\n",
       "      <th>Volume_litres</th>\n",
       "    </tr>\n",
       "  </thead>\n",
       "  <tbody>\n",
       "    <tr>\n",
       "      <th>0</th>\n",
       "      <td>1</td>\n",
       "      <td>Alcoholic Drinks</td>\n",
       "      <td>2022</td>\n",
       "      <td>Beer</td>\n",
       "      <td>Beer</td>\n",
       "      <td>1</td>\n",
       "      <td>Off-trade Volume</td>\n",
       "      <td>Food/drink/tobacco specialists</td>\n",
       "      <td>3</td>\n",
       "      <td>million litres</td>\n",
       "      <td>2007</td>\n",
       "      <td>Monday, 31 December 2007</td>\n",
       "      <td>2613,845506</td>\n",
       "      <td>31-12-2007</td>\n",
       "      <td>2.613846e+09</td>\n",
       "    </tr>\n",
       "    <tr>\n",
       "      <th>1</th>\n",
       "      <td>1</td>\n",
       "      <td>Alcoholic Drinks</td>\n",
       "      <td>2022</td>\n",
       "      <td>Beer</td>\n",
       "      <td>Beer</td>\n",
       "      <td>1</td>\n",
       "      <td>Off-trade Volume</td>\n",
       "      <td>Food/drink/tobacco specialists</td>\n",
       "      <td>3</td>\n",
       "      <td>million litres</td>\n",
       "      <td>2008</td>\n",
       "      <td>Wednesday, 31 December 2008</td>\n",
       "      <td>2513,025824</td>\n",
       "      <td>31-12-2008</td>\n",
       "      <td>2.513026e+09</td>\n",
       "    </tr>\n",
       "    <tr>\n",
       "      <th>2</th>\n",
       "      <td>1</td>\n",
       "      <td>Alcoholic Drinks</td>\n",
       "      <td>2022</td>\n",
       "      <td>Beer</td>\n",
       "      <td>Beer</td>\n",
       "      <td>1</td>\n",
       "      <td>Off-trade Volume</td>\n",
       "      <td>Food/drink/tobacco specialists</td>\n",
       "      <td>3</td>\n",
       "      <td>million litres</td>\n",
       "      <td>2009</td>\n",
       "      <td>Thursday, 31 December 2009</td>\n",
       "      <td>2421,088595</td>\n",
       "      <td>31-12-2009</td>\n",
       "      <td>2.421089e+09</td>\n",
       "    </tr>\n",
       "    <tr>\n",
       "      <th>3</th>\n",
       "      <td>1</td>\n",
       "      <td>Alcoholic Drinks</td>\n",
       "      <td>2022</td>\n",
       "      <td>Beer</td>\n",
       "      <td>Beer</td>\n",
       "      <td>1</td>\n",
       "      <td>Off-trade Volume</td>\n",
       "      <td>Food/drink/tobacco specialists</td>\n",
       "      <td>3</td>\n",
       "      <td>million litres</td>\n",
       "      <td>2010</td>\n",
       "      <td>Friday, 31 December 2010</td>\n",
       "      <td>2422,128432</td>\n",
       "      <td>31-12-2010</td>\n",
       "      <td>2.422128e+09</td>\n",
       "    </tr>\n",
       "    <tr>\n",
       "      <th>4</th>\n",
       "      <td>1</td>\n",
       "      <td>Alcoholic Drinks</td>\n",
       "      <td>2022</td>\n",
       "      <td>Beer</td>\n",
       "      <td>Beer</td>\n",
       "      <td>1</td>\n",
       "      <td>Off-trade Volume</td>\n",
       "      <td>Food/drink/tobacco specialists</td>\n",
       "      <td>3</td>\n",
       "      <td>million litres</td>\n",
       "      <td>2011</td>\n",
       "      <td>Saturday, 31 December 2011</td>\n",
       "      <td>2439,33622</td>\n",
       "      <td>31-12-2011</td>\n",
       "      <td>2.439336e+09</td>\n",
       "    </tr>\n",
       "  </tbody>\n",
       "</table>\n",
       "</div>"
      ],
      "text/plain": [
       "   Location          Industry  Edition Category Subcategory  Hierarchy_Level  \\\n",
       "0         1  Alcoholic Drinks     2022     Beer        Beer                1   \n",
       "1         1  Alcoholic Drinks     2022     Beer        Beer                1   \n",
       "2         1  Alcoholic Drinks     2022     Beer        Beer                1   \n",
       "3         1  Alcoholic Drinks     2022     Beer        Beer                1   \n",
       "4         1  Alcoholic Drinks     2022     Beer        Beer                1   \n",
       "\n",
       "          Data_Type                          Outlet  Outlet_Hierarchy  \\\n",
       "0  Off-trade Volume  Food/drink/tobacco specialists                 3   \n",
       "1  Off-trade Volume  Food/drink/tobacco specialists                 3   \n",
       "2  Off-trade Volume  Food/drink/tobacco specialists                 3   \n",
       "3  Off-trade Volume  Food/drink/tobacco specialists                 3   \n",
       "4  Off-trade Volume  Food/drink/tobacco specialists                 3   \n",
       "\n",
       "             Unit  Year_text                    Year_date       Volume  \\\n",
       "0  million litres       2007     Monday, 31 December 2007  2613,845506   \n",
       "1  million litres       2008  Wednesday, 31 December 2008  2513,025824   \n",
       "2  million litres       2009   Thursday, 31 December 2009  2421,088595   \n",
       "3  million litres       2010     Friday, 31 December 2010  2422,128432   \n",
       "4  million litres       2011   Saturday, 31 December 2011   2439,33622   \n",
       "\n",
       "  Year_date_format  Volume_litres  \n",
       "0       31-12-2007   2.613846e+09  \n",
       "1       31-12-2008   2.513026e+09  \n",
       "2       31-12-2009   2.421089e+09  \n",
       "3       31-12-2010   2.422128e+09  \n",
       "4       31-12-2011   2.439336e+09  "
      ]
     },
     "execution_count": 31,
     "metadata": {},
     "output_type": "execute_result"
    }
   ],
   "source": [
    "channel_volume.head()"
   ]
  },
  {
   "cell_type": "markdown",
   "metadata": {},
   "source": [
    "Filling in missing values in 'Category'. NB! In this dataset 'Category' and 'Subcategory' are the same. "
   ]
  },
  {
   "cell_type": "code",
   "execution_count": 4,
   "metadata": {},
   "outputs": [],
   "source": [
    "channel_volume.loc[603,'Category'] = channel_volume.loc[603,'Category'] = 'Wine'\n",
    "channel_volume.loc[1974,'Category'] = channel_volume.loc[1974,'Category'] = 'Beer'\n",
    "channel_volume.loc[2986,'Category'] = channel_volume.loc[2986,'Category'] = 'Cider/Perry'\n",
    "channel_volume.loc[7547,'Category'] = channel_volume.loc[7547,'Category'] = 'Cider/Perry'\n"
   ]
  },
  {
   "cell_type": "code",
   "execution_count": 33,
   "metadata": {},
   "outputs": [
    {
     "data": {
      "text/plain": [
       "Location            0\n",
       "Industry            0\n",
       "Edition             0\n",
       "Category            0\n",
       "Subcategory         0\n",
       "Hierarchy_Level     0\n",
       "Data_Type           0\n",
       "Outlet              0\n",
       "Outlet_Hierarchy    0\n",
       "Unit                0\n",
       "Year_text           0\n",
       "Year_date           0\n",
       "Volume              0\n",
       "Year_date_format    0\n",
       "Volume_litres       0\n",
       "dtype: int64"
      ]
     },
     "execution_count": 33,
     "metadata": {},
     "output_type": "execute_result"
    }
   ],
   "source": [
    "channel_volume.isna().sum()"
   ]
  },
  {
   "cell_type": "markdown",
   "metadata": {},
   "source": [
    "Creating a date column in the accepted format (should be the same as in other datasets)"
   ]
  },
  {
   "cell_type": "code",
   "execution_count": 6,
   "metadata": {},
   "outputs": [
    {
     "data": {
      "text/plain": [
       "0          Monday, 31 December 2007\n",
       "1       Wednesday, 31 December 2008\n",
       "2        Thursday, 31 December 2009\n",
       "3          Friday, 31 December 2010\n",
       "4        Saturday, 31 December 2011\n",
       "                   ...             \n",
       "8463       Sunday, 31 December 2017\n",
       "8464       Monday, 31 December 2018\n",
       "8465      Tuesday, 31 December 2019\n",
       "8466     Thursday, 31 December 2020\n",
       "8467       Friday, 31 December 2021\n",
       "Name: Year_date, Length: 8468, dtype: object"
      ]
     },
     "execution_count": 6,
     "metadata": {},
     "output_type": "execute_result"
    }
   ],
   "source": [
    "channel_volume['Year_date']"
   ]
  },
  {
   "cell_type": "code",
   "execution_count": 7,
   "metadata": {},
   "outputs": [],
   "source": [
    "channel_volume['Year_date_format'] = pd.to_datetime(channel_volume['Year_date'])"
   ]
  },
  {
   "cell_type": "code",
   "execution_count": 10,
   "metadata": {},
   "outputs": [],
   "source": [
    "channel_volume['Year_date_format'] =channel_volume['Year_date_format'].dt.strftime(\"%d-%m-%Y\")"
   ]
  },
  {
   "cell_type": "code",
   "execution_count": 11,
   "metadata": {},
   "outputs": [
    {
     "data": {
      "text/plain": [
       "0       31-12-2007\n",
       "1       31-12-2008\n",
       "2       31-12-2009\n",
       "3       31-12-2010\n",
       "4       31-12-2011\n",
       "           ...    \n",
       "8463    31-12-2017\n",
       "8464    31-12-2018\n",
       "8465    31-12-2019\n",
       "8466    31-12-2020\n",
       "8467    31-12-2021\n",
       "Name: Year_date_format, Length: 8468, dtype: object"
      ]
     },
     "execution_count": 11,
     "metadata": {},
     "output_type": "execute_result"
    }
   ],
   "source": [
    "channel_volume['Year_date_format']"
   ]
  },
  {
   "cell_type": "markdown",
   "metadata": {},
   "source": [
    "Creating a column 'Volume_litres' for volume in litres for all rows."
   ]
  },
  {
   "cell_type": "code",
   "execution_count": 12,
   "metadata": {},
   "outputs": [
    {
     "data": {
      "text/plain": [
       "array(['million litres', '000 litres'], dtype=object)"
      ]
     },
     "execution_count": 12,
     "metadata": {},
     "output_type": "execute_result"
    }
   ],
   "source": [
    "channel_volume['Unit'].unique()"
   ]
  },
  {
   "cell_type": "code",
   "execution_count": 25,
   "metadata": {},
   "outputs": [],
   "source": [
    "channel_volume['Volume_litres'] = channel_volume['Volume'].replace(',','.', regex=True).astype(float)"
   ]
  },
  {
   "cell_type": "code",
   "execution_count": 27,
   "metadata": {},
   "outputs": [],
   "source": [
    "conditions = [\n",
    "        channel_volume['Unit'] == 'million litres',\n",
    "        channel_volume['Unit'] == '000 litres' ]"
   ]
  },
  {
   "cell_type": "code",
   "execution_count": 28,
   "metadata": {},
   "outputs": [],
   "source": [
    "values = [(channel_volume['Volume_litres']*1000000), (channel_volume['Volume_litres']*1000)]"
   ]
  },
  {
   "cell_type": "code",
   "execution_count": 29,
   "metadata": {},
   "outputs": [],
   "source": [
    "channel_volume['Volume_litres'] = np.select(conditions,values)"
   ]
  },
  {
   "cell_type": "code",
   "execution_count": 30,
   "metadata": {},
   "outputs": [
    {
     "data": {
      "text/plain": [
       "0       2.613846e+09\n",
       "1       2.513026e+09\n",
       "2       2.421089e+09\n",
       "3       2.422128e+09\n",
       "4       2.439336e+09\n",
       "            ...     \n",
       "8463    1.651421e+10\n",
       "8464    1.652215e+10\n",
       "8465    1.654461e+10\n",
       "8466    1.662651e+10\n",
       "8467    1.666464e+10\n",
       "Name: Volume_litres, Length: 8468, dtype: float64"
      ]
     },
     "execution_count": 30,
     "metadata": {},
     "output_type": "execute_result"
    }
   ],
   "source": [
    "channel_volume['Volume_litres']"
   ]
  }
 ],
 "metadata": {
  "kernelspec": {
   "display_name": "Python 3.11.3 ('dragonyte_project': venv)",
   "language": "python",
   "name": "python3"
  },
  "language_info": {
   "codemirror_mode": {
    "name": "ipython",
    "version": 3
   },
   "file_extension": ".py",
   "mimetype": "text/x-python",
   "name": "python",
   "nbconvert_exporter": "python",
   "pygments_lexer": "ipython3",
   "version": "3.11.3"
  },
  "orig_nbformat": 4,
  "vscode": {
   "interpreter": {
    "hash": "649e99f918e77b1782f5b682c4253196b9686011c762caf18ba420148ca1ec57"
   }
  }
 },
 "nbformat": 4,
 "nbformat_minor": 2
}
