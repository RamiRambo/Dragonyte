{
 "cells": [
  {
   "cell_type": "code",
   "execution_count": 3,
   "metadata": {},
   "outputs": [],
   "source": [
    "import pandas as pd\n",
    "import numpy as np\n",
    "import datetime as dt"
   ]
  },
  {
   "cell_type": "code",
   "execution_count": 4,
   "metadata": {},
   "outputs": [],
   "source": [
    "#Open all source files\n",
    "channel_volume = pd.read_csv('Untouched_Business_case/Data/Channel_Volume.csv')\n",
    "location = pd.read_csv('Untouched_Business_case/Data/Locations.csv', delimiter=';').T\n",
    "market_size = pd.read_csv('Untouched_Business_case/Data/Market_Sizes.csv')\n",
    "company_share = pd.read_csv(\"company_share_cleaned.csv\")\n",
    "subcategories = pd.read_csv('Untouched_Business_case/Data/Subcategories.csv')\n",
    "categories= pd.read_csv('Untouched_Business_case/Data/Categories.csv')"
   ]
  },
  {
   "cell_type": "code",
   "execution_count": 5,
   "metadata": {},
   "outputs": [],
   "source": [
    "#Dataframe for Dragonyte only\n",
    "company_share_copy = pd.read_csv(\"company_share_cleaned.csv\")\n",
    "company_share_copy_dragonyte = company_share_copy[company_share_copy[\"Global_Brand_Owner\"]==\"Dragonyte Brewery\"]"
   ]
  },
  {
   "cell_type": "code",
   "execution_count": 6,
   "metadata": {},
   "outputs": [
    {
     "name": "stderr",
     "output_type": "stream",
     "text": [
      "/tmp/ipykernel_1003/681802043.py:2: SettingWithCopyWarning: \n",
      "A value is trying to be set on a copy of a slice from a DataFrame.\n",
      "Try using .loc[row_indexer,col_indexer] = value instead\n",
      "\n",
      "See the caveats in the documentation: https://pandas.pydata.org/pandas-docs/stable/user_guide/indexing.html#returning-a-view-versus-a-copy\n",
      "  company_share_copy_dragonyte[\"Year_text\"] = company_share_copy_dragonyte[\"Year_text\"].astype(int)\n"
     ]
    }
   ],
   "source": [
    "#Transforming year into int so it works well in Tableau\n",
    "company_share_copy_dragonyte[\"Year_text\"] = company_share_copy_dragonyte[\"Year_text\"].astype(int) "
   ]
  },
  {
   "cell_type": "code",
   "execution_count": 7,
   "metadata": {},
   "outputs": [],
   "source": [
    "#Market share of Dragonyte worldwide\n",
    "volume_dragonyte = company_share_copy_dragonyte[company_share_copy_dragonyte[\"Location\"]==8][\"volume_litres\"].sum()\n",
    "volume_all = company_share_copy[company_share_copy[\"Location\"]==8][\"volume_litres\"].sum()"
   ]
  },
  {
   "cell_type": "code",
   "execution_count": 8,
   "metadata": {},
   "outputs": [
    {
     "data": {
      "text/plain": [
       "18.264474354784998"
      ]
     },
     "execution_count": 8,
     "metadata": {},
     "output_type": "execute_result"
    }
   ],
   "source": [
    "#Market share of Dragonyte in the US\n",
    "volume_dragonyte = company_share_copy_dragonyte[company_share_copy_dragonyte[\"Location\"]==6][\"volume_litres\"].sum()\n",
    "volume_all = company_share_copy[company_share_copy[\"Location\"]==6][\"volume_litres\"].sum()\n",
    "volume_dragonyte/volume_all*100"
   ]
  },
  {
   "cell_type": "code",
   "execution_count": 9,
   "metadata": {},
   "outputs": [
    {
     "data": {
      "text/plain": [
       "13"
      ]
     },
     "execution_count": 9,
     "metadata": {},
     "output_type": "execute_result"
    }
   ],
   "source": [
    "#How many types of beers does Dragonyte sell\n",
    "len(company_share_copy_dragonyte[\"Subcategory_ID\"].unique())"
   ]
  },
  {
   "cell_type": "code",
   "execution_count": 10,
   "metadata": {},
   "outputs": [
    {
     "data": {
      "text/plain": [
       "8"
      ]
     },
     "execution_count": 10,
     "metadata": {},
     "output_type": "execute_result"
    }
   ],
   "source": [
    "#How many locations Dragonyte is present in\n",
    "len(company_share_copy_dragonyte[\"Location\"].unique())"
   ]
  },
  {
   "attachments": {},
   "cell_type": "markdown",
   "metadata": {},
   "source": [
    "Computing the RSP/volume ratio absed on martket_size and RSP with market_share volumes"
   ]
  },
  {
   "cell_type": "code",
   "execution_count": 11,
   "metadata": {},
   "outputs": [],
   "source": [
    "#computing RSP/volume ratio\n",
    "\n",
    "market_size[\"RSP/volume\"] = market_size[\"RSP\"]/market_size[\"Volume\"]"
   ]
  },
  {
   "cell_type": "code",
   "execution_count": 12,
   "metadata": {},
   "outputs": [],
   "source": [
    "#Saving market sizes with new RSP/vol variable\n",
    "market_size.to_csv(\"market_size_rsp_volume.csv\")"
   ]
  },
  {
   "cell_type": "code",
   "execution_count": 13,
   "metadata": {},
   "outputs": [
    {
     "data": {
      "text/html": [
       "<div>\n",
       "<style scoped>\n",
       "    .dataframe tbody tr th:only-of-type {\n",
       "        vertical-align: middle;\n",
       "    }\n",
       "\n",
       "    .dataframe tbody tr th {\n",
       "        vertical-align: top;\n",
       "    }\n",
       "\n",
       "    .dataframe thead th {\n",
       "        text-align: right;\n",
       "    }\n",
       "</style>\n",
       "<table border=\"1\" class=\"dataframe\">\n",
       "  <thead>\n",
       "    <tr style=\"text-align: right;\">\n",
       "      <th></th>\n",
       "      <th>Year</th>\n",
       "      <th>Location</th>\n",
       "      <th>Subcategory</th>\n",
       "      <th>RSP/volume</th>\n",
       "    </tr>\n",
       "  </thead>\n",
       "  <tbody>\n",
       "    <tr>\n",
       "      <th>0</th>\n",
       "      <td>2016</td>\n",
       "      <td>1</td>\n",
       "      <td>1</td>\n",
       "      <td>11.148148</td>\n",
       "    </tr>\n",
       "    <tr>\n",
       "      <th>1</th>\n",
       "      <td>2016</td>\n",
       "      <td>1</td>\n",
       "      <td>2</td>\n",
       "      <td>12.658537</td>\n",
       "    </tr>\n",
       "    <tr>\n",
       "      <th>2</th>\n",
       "      <td>2016</td>\n",
       "      <td>1</td>\n",
       "      <td>3</td>\n",
       "      <td>2.561224</td>\n",
       "    </tr>\n",
       "    <tr>\n",
       "      <th>3</th>\n",
       "      <td>2016</td>\n",
       "      <td>1</td>\n",
       "      <td>4</td>\n",
       "      <td>2.153991</td>\n",
       "    </tr>\n",
       "    <tr>\n",
       "      <th>4</th>\n",
       "      <td>2016</td>\n",
       "      <td>1</td>\n",
       "      <td>6</td>\n",
       "      <td>0.009309</td>\n",
       "    </tr>\n",
       "    <tr>\n",
       "      <th>...</th>\n",
       "      <td>...</td>\n",
       "      <td>...</td>\n",
       "      <td>...</td>\n",
       "      <td>...</td>\n",
       "    </tr>\n",
       "    <tr>\n",
       "      <th>1216</th>\n",
       "      <td>2026</td>\n",
       "      <td>7</td>\n",
       "      <td>11</td>\n",
       "      <td>4.812133</td>\n",
       "    </tr>\n",
       "    <tr>\n",
       "      <th>1217</th>\n",
       "      <td>2026</td>\n",
       "      <td>7</td>\n",
       "      <td>12</td>\n",
       "      <td>1.239910</td>\n",
       "    </tr>\n",
       "    <tr>\n",
       "      <th>1218</th>\n",
       "      <td>2026</td>\n",
       "      <td>7</td>\n",
       "      <td>13</td>\n",
       "      <td>5.166435</td>\n",
       "    </tr>\n",
       "    <tr>\n",
       "      <th>1219</th>\n",
       "      <td>2026</td>\n",
       "      <td>7</td>\n",
       "      <td>16</td>\n",
       "      <td>0.009438</td>\n",
       "    </tr>\n",
       "    <tr>\n",
       "      <th>1220</th>\n",
       "      <td>2026</td>\n",
       "      <td>7</td>\n",
       "      <td>17</td>\n",
       "      <td>5.487261</td>\n",
       "    </tr>\n",
       "  </tbody>\n",
       "</table>\n",
       "<p>1221 rows × 4 columns</p>\n",
       "</div>"
      ],
      "text/plain": [
       "      Year  Location  Subcategory  RSP/volume\n",
       "0     2016         1            1   11.148148\n",
       "1     2016         1            2   12.658537\n",
       "2     2016         1            3    2.561224\n",
       "3     2016         1            4    2.153991\n",
       "4     2016         1            6    0.009309\n",
       "...    ...       ...          ...         ...\n",
       "1216  2026         7           11    4.812133\n",
       "1217  2026         7           12    1.239910\n",
       "1218  2026         7           13    5.166435\n",
       "1219  2026         7           16    0.009438\n",
       "1220  2026         7           17    5.487261\n",
       "\n",
       "[1221 rows x 4 columns]"
      ]
     },
     "execution_count": 13,
     "metadata": {},
     "output_type": "execute_result"
    }
   ],
   "source": [
    "#Here either we use median, sum or mean as aggregator it makes no difference\n",
    "market_size_grouped = market_size[market_size[\"Location\"]!=8.0].groupby([\"Year\",\"Location\", \"Subcategory\"],as_index=False)[\"RSP/volume\"].median()\n",
    "market_size_grouped"
   ]
  },
  {
   "cell_type": "code",
   "execution_count": 14,
   "metadata": {},
   "outputs": [
    {
     "data": {
      "text/html": [
       "<div>\n",
       "<style scoped>\n",
       "    .dataframe tbody tr th:only-of-type {\n",
       "        vertical-align: middle;\n",
       "    }\n",
       "\n",
       "    .dataframe tbody tr th {\n",
       "        vertical-align: top;\n",
       "    }\n",
       "\n",
       "    .dataframe thead th {\n",
       "        text-align: right;\n",
       "    }\n",
       "</style>\n",
       "<table border=\"1\" class=\"dataframe\">\n",
       "  <thead>\n",
       "    <tr style=\"text-align: right;\">\n",
       "      <th></th>\n",
       "      <th>Year_text</th>\n",
       "      <th>Location</th>\n",
       "      <th>Subcategory_ID</th>\n",
       "      <th>volume_litres</th>\n",
       "    </tr>\n",
       "  </thead>\n",
       "  <tbody>\n",
       "    <tr>\n",
       "      <th>0</th>\n",
       "      <td>2016.0</td>\n",
       "      <td>1.0</td>\n",
       "      <td>1.0</td>\n",
       "      <td>2.667644e+07</td>\n",
       "    </tr>\n",
       "    <tr>\n",
       "      <th>1</th>\n",
       "      <td>2016.0</td>\n",
       "      <td>1.0</td>\n",
       "      <td>2.0</td>\n",
       "      <td>4.085848e+07</td>\n",
       "    </tr>\n",
       "    <tr>\n",
       "      <th>2</th>\n",
       "      <td>2016.0</td>\n",
       "      <td>1.0</td>\n",
       "      <td>3.0</td>\n",
       "      <td>9.840531e+07</td>\n",
       "    </tr>\n",
       "    <tr>\n",
       "      <th>3</th>\n",
       "      <td>2016.0</td>\n",
       "      <td>1.0</td>\n",
       "      <td>4.0</td>\n",
       "      <td>6.782176e+10</td>\n",
       "    </tr>\n",
       "    <tr>\n",
       "      <th>4</th>\n",
       "      <td>2016.0</td>\n",
       "      <td>1.0</td>\n",
       "      <td>6.0</td>\n",
       "      <td>1.364653e+08</td>\n",
       "    </tr>\n",
       "    <tr>\n",
       "      <th>...</th>\n",
       "      <td>...</td>\n",
       "      <td>...</td>\n",
       "      <td>...</td>\n",
       "      <td>...</td>\n",
       "    </tr>\n",
       "    <tr>\n",
       "      <th>673</th>\n",
       "      <td>2021.0</td>\n",
       "      <td>7.0</td>\n",
       "      <td>13.0</td>\n",
       "      <td>2.804911e+10</td>\n",
       "    </tr>\n",
       "    <tr>\n",
       "      <th>674</th>\n",
       "      <td>2021.0</td>\n",
       "      <td>7.0</td>\n",
       "      <td>14.0</td>\n",
       "      <td>1.166836e+10</td>\n",
       "    </tr>\n",
       "    <tr>\n",
       "      <th>675</th>\n",
       "      <td>2021.0</td>\n",
       "      <td>7.0</td>\n",
       "      <td>15.0</td>\n",
       "      <td>1.882811e+06</td>\n",
       "    </tr>\n",
       "    <tr>\n",
       "      <th>676</th>\n",
       "      <td>2021.0</td>\n",
       "      <td>7.0</td>\n",
       "      <td>16.0</td>\n",
       "      <td>4.936165e+05</td>\n",
       "    </tr>\n",
       "    <tr>\n",
       "      <th>677</th>\n",
       "      <td>2021.0</td>\n",
       "      <td>7.0</td>\n",
       "      <td>17.0</td>\n",
       "      <td>1.197447e+06</td>\n",
       "    </tr>\n",
       "  </tbody>\n",
       "</table>\n",
       "<p>678 rows × 4 columns</p>\n",
       "</div>"
      ],
      "text/plain": [
       "     Year_text  Location  Subcategory_ID  volume_litres\n",
       "0       2016.0       1.0             1.0   2.667644e+07\n",
       "1       2016.0       1.0             2.0   4.085848e+07\n",
       "2       2016.0       1.0             3.0   9.840531e+07\n",
       "3       2016.0       1.0             4.0   6.782176e+10\n",
       "4       2016.0       1.0             6.0   1.364653e+08\n",
       "..         ...       ...             ...            ...\n",
       "673     2021.0       7.0            13.0   2.804911e+10\n",
       "674     2021.0       7.0            14.0   1.166836e+10\n",
       "675     2021.0       7.0            15.0   1.882811e+06\n",
       "676     2021.0       7.0            16.0   4.936165e+05\n",
       "677     2021.0       7.0            17.0   1.197447e+06\n",
       "\n",
       "[678 rows x 4 columns]"
      ]
     },
     "execution_count": 14,
     "metadata": {},
     "output_type": "execute_result"
    }
   ],
   "source": [
    "#total volume worlwide and displaying it as a df\n",
    "company_share_grouped = company_share[company_share[\"Location\"]!=8.0].groupby([\"Year_text\",\"Location\", \"Subcategory_ID\"],as_index=False)[\"volume_litres\"].sum()\n",
    "company_share_grouped"
   ]
  },
  {
   "cell_type": "code",
   "execution_count": 15,
   "metadata": {},
   "outputs": [
    {
     "data": {
      "text/html": [
       "<div>\n",
       "<style scoped>\n",
       "    .dataframe tbody tr th:only-of-type {\n",
       "        vertical-align: middle;\n",
       "    }\n",
       "\n",
       "    .dataframe tbody tr th {\n",
       "        vertical-align: top;\n",
       "    }\n",
       "\n",
       "    .dataframe thead th {\n",
       "        text-align: right;\n",
       "    }\n",
       "</style>\n",
       "<table border=\"1\" class=\"dataframe\">\n",
       "  <thead>\n",
       "    <tr style=\"text-align: right;\">\n",
       "      <th></th>\n",
       "      <th>Year_text</th>\n",
       "      <th>Location</th>\n",
       "      <th>Subcategory_ID</th>\n",
       "      <th>volume_litres</th>\n",
       "    </tr>\n",
       "  </thead>\n",
       "  <tbody>\n",
       "    <tr>\n",
       "      <th>0</th>\n",
       "      <td>2016.0</td>\n",
       "      <td>1.0</td>\n",
       "      <td>4.0</td>\n",
       "      <td>9.134265e+07</td>\n",
       "    </tr>\n",
       "    <tr>\n",
       "      <th>1</th>\n",
       "      <td>2016.0</td>\n",
       "      <td>1.0</td>\n",
       "      <td>8.0</td>\n",
       "      <td>9.134265e+07</td>\n",
       "    </tr>\n",
       "    <tr>\n",
       "      <th>2</th>\n",
       "      <td>2016.0</td>\n",
       "      <td>1.0</td>\n",
       "      <td>10.0</td>\n",
       "      <td>2.037280e+07</td>\n",
       "    </tr>\n",
       "    <tr>\n",
       "      <th>3</th>\n",
       "      <td>2016.0</td>\n",
       "      <td>1.0</td>\n",
       "      <td>12.0</td>\n",
       "      <td>7.088152e+07</td>\n",
       "    </tr>\n",
       "    <tr>\n",
       "      <th>4</th>\n",
       "      <td>2016.0</td>\n",
       "      <td>1.0</td>\n",
       "      <td>13.0</td>\n",
       "      <td>9.134265e+07</td>\n",
       "    </tr>\n",
       "    <tr>\n",
       "      <th>...</th>\n",
       "      <td>...</td>\n",
       "      <td>...</td>\n",
       "      <td>...</td>\n",
       "      <td>...</td>\n",
       "    </tr>\n",
       "    <tr>\n",
       "      <th>297</th>\n",
       "      <td>2021.0</td>\n",
       "      <td>7.0</td>\n",
       "      <td>9.0</td>\n",
       "      <td>1.404519e+08</td>\n",
       "    </tr>\n",
       "    <tr>\n",
       "      <th>298</th>\n",
       "      <td>2021.0</td>\n",
       "      <td>7.0</td>\n",
       "      <td>10.0</td>\n",
       "      <td>2.053907e+08</td>\n",
       "    </tr>\n",
       "    <tr>\n",
       "      <th>299</th>\n",
       "      <td>2021.0</td>\n",
       "      <td>7.0</td>\n",
       "      <td>11.0</td>\n",
       "      <td>6.333683e+08</td>\n",
       "    </tr>\n",
       "    <tr>\n",
       "      <th>300</th>\n",
       "      <td>2021.0</td>\n",
       "      <td>7.0</td>\n",
       "      <td>13.0</td>\n",
       "      <td>9.974008e+08</td>\n",
       "    </tr>\n",
       "    <tr>\n",
       "      <th>301</th>\n",
       "      <td>2021.0</td>\n",
       "      <td>7.0</td>\n",
       "      <td>16.0</td>\n",
       "      <td>1.997991e+03</td>\n",
       "    </tr>\n",
       "  </tbody>\n",
       "</table>\n",
       "<p>302 rows × 4 columns</p>\n",
       "</div>"
      ],
      "text/plain": [
       "     Year_text  Location  Subcategory_ID  volume_litres\n",
       "0       2016.0       1.0             4.0   9.134265e+07\n",
       "1       2016.0       1.0             8.0   9.134265e+07\n",
       "2       2016.0       1.0            10.0   2.037280e+07\n",
       "3       2016.0       1.0            12.0   7.088152e+07\n",
       "4       2016.0       1.0            13.0   9.134265e+07\n",
       "..         ...       ...             ...            ...\n",
       "297     2021.0       7.0             9.0   1.404519e+08\n",
       "298     2021.0       7.0            10.0   2.053907e+08\n",
       "299     2021.0       7.0            11.0   6.333683e+08\n",
       "300     2021.0       7.0            13.0   9.974008e+08\n",
       "301     2021.0       7.0            16.0   1.997991e+03\n",
       "\n",
       "[302 rows x 4 columns]"
      ]
     },
     "execution_count": 15,
     "metadata": {},
     "output_type": "execute_result"
    }
   ],
   "source": [
    "#filtering market share to have volumes for Dragonyte Brewery\n",
    "volumes_dragonyte = company_share[(company_share[\"Location\"] != 8.0) & (company_share[\"Global_Brand_Owner\"] ==\"Dragonyte Brewery\")].groupby([\"Year_text\",\"Location\", \"Subcategory_ID\"],as_index=False)[\"volume_litres\"].sum()\n",
    "volumes_dragonyte"
   ]
  },
  {
   "cell_type": "code",
   "execution_count": 16,
   "metadata": {},
   "outputs": [],
   "source": [
    "#Transforming subcategory into an INT so that it is usable in Tableau\n",
    "company_share_grouped[\"Subcategory_ID\"] = company_share_grouped[\"Subcategory_ID\"].astype(int)"
   ]
  },
  {
   "cell_type": "code",
   "execution_count": 17,
   "metadata": {},
   "outputs": [],
   "source": [
    "#Multiplying the RSP/volume ratio from market_size by volumes from market_share\n",
    "for index, value in volumes_dragonyte[\"volume_litres\"].items():\n",
    "    for ind, val in market_size_grouped[\"RSP/volume\"].items():\n",
    "        if market_size_grouped.loc[ind, \"Year\"] == volumes_dragonyte.loc[index, \"Year_text\"] and market_size_grouped.loc[ind, \"Subcategory\"] == volumes_dragonyte.loc[index, \"Subcategory_ID\"] and market_size_grouped.loc[ind, \"Location\"] == volumes_dragonyte.loc[index, \"Location\"]:\n",
    "            volumes_dragonyte.loc[index, \"RSP\"] = volumes_dragonyte.loc[index, \"volume_litres\"]*market_size_grouped.loc[ind, \"RSP/volume\"]"
   ]
  },
  {
   "cell_type": "code",
   "execution_count": 18,
   "metadata": {},
   "outputs": [],
   "source": [
    "#Transforming subcategory into an INT so that it is usable in Tableau\n",
    "volumes_dragonyte[\"Location\"] = volumes_dragonyte[\"Location\"].astype(int)\n",
    "volumes_dragonyte[\"Subcategory_ID\"] = volumes_dragonyte[\"Subcategory_ID\"].astype(int)"
   ]
  },
  {
   "cell_type": "code",
   "execution_count": 19,
   "metadata": {},
   "outputs": [],
   "source": [
    "#Saving the file as csv\n",
    "volumes_dragonyte.to_csv(\"Dragonyte_RSP_vols.csv\")"
   ]
  },
  {
   "cell_type": "code",
   "execution_count": 20,
   "metadata": {},
   "outputs": [],
   "source": [
    "#Multiplying the RSP/volume ratio from market_size by volumes from market_share FOR DRAGONYTE ONLY\n",
    "for index, value in company_share_grouped[\"volume_litres\"].items():\n",
    "    for ind, val in market_size_grouped[\"RSP/volume\"].items():\n",
    "        if market_size_grouped.loc[ind, \"Year\"] == company_share_grouped.loc[index, \"Year_text\"] and market_size_grouped.loc[ind, \"Subcategory\"] == company_share_grouped.loc[index, \"Subcategory_ID\"] and market_size_grouped.loc[ind, \"Location\"] == company_share_grouped.loc[index, \"Location\"]:\n",
    "            company_share_grouped.loc[index, \"RSP\"] = company_share_grouped.loc[index, \"volume_litres\"]*market_size_grouped.loc[ind, \"RSP/volume\"]"
   ]
  },
  {
   "cell_type": "code",
   "execution_count": 21,
   "metadata": {},
   "outputs": [
    {
     "data": {
      "text/html": [
       "<div>\n",
       "<style scoped>\n",
       "    .dataframe tbody tr th:only-of-type {\n",
       "        vertical-align: middle;\n",
       "    }\n",
       "\n",
       "    .dataframe tbody tr th {\n",
       "        vertical-align: top;\n",
       "    }\n",
       "\n",
       "    .dataframe thead th {\n",
       "        text-align: right;\n",
       "    }\n",
       "</style>\n",
       "<table border=\"1\" class=\"dataframe\">\n",
       "  <thead>\n",
       "    <tr style=\"text-align: right;\">\n",
       "      <th></th>\n",
       "      <th>Location</th>\n",
       "      <th>RSP</th>\n",
       "    </tr>\n",
       "  </thead>\n",
       "  <tbody>\n",
       "    <tr>\n",
       "      <th>0</th>\n",
       "      <td>1.0</td>\n",
       "      <td>4.401856e+12</td>\n",
       "    </tr>\n",
       "    <tr>\n",
       "      <th>1</th>\n",
       "      <td>2.0</td>\n",
       "      <td>2.712256e+11</td>\n",
       "    </tr>\n",
       "    <tr>\n",
       "      <th>2</th>\n",
       "      <td>3.0</td>\n",
       "      <td>1.168579e+12</td>\n",
       "    </tr>\n",
       "    <tr>\n",
       "      <th>3</th>\n",
       "      <td>4.0</td>\n",
       "      <td>2.872128e+12</td>\n",
       "    </tr>\n",
       "    <tr>\n",
       "      <th>4</th>\n",
       "      <td>5.0</td>\n",
       "      <td>1.068519e+12</td>\n",
       "    </tr>\n",
       "    <tr>\n",
       "      <th>5</th>\n",
       "      <td>6.0</td>\n",
       "      <td>2.909490e+12</td>\n",
       "    </tr>\n",
       "    <tr>\n",
       "      <th>6</th>\n",
       "      <td>7.0</td>\n",
       "      <td>3.008704e+12</td>\n",
       "    </tr>\n",
       "  </tbody>\n",
       "</table>\n",
       "</div>"
      ],
      "text/plain": [
       "   Location           RSP\n",
       "0       1.0  4.401856e+12\n",
       "1       2.0  2.712256e+11\n",
       "2       3.0  1.168579e+12\n",
       "3       4.0  2.872128e+12\n",
       "4       5.0  1.068519e+12\n",
       "5       6.0  2.909490e+12\n",
       "6       7.0  3.008704e+12"
      ]
     },
     "execution_count": 21,
     "metadata": {},
     "output_type": "execute_result"
    }
   ],
   "source": [
    "#grouping by location\n",
    "company_share_grouped_new = company_share_grouped.groupby(\"Location\",as_index=False)[\"RSP\"].sum()\n",
    "company_share_grouped_new"
   ]
  },
  {
   "cell_type": "code",
   "execution_count": 22,
   "metadata": {},
   "outputs": [],
   "source": [
    "#Making sure subcategory ID is an int so it will be usable in Tableau\n",
    "company_share_grouped[\"Subcategory_ID\"]=company_share_grouped[\"Subcategory_ID\"].astype(int)"
   ]
  },
  {
   "cell_type": "code",
   "execution_count": 23,
   "metadata": {},
   "outputs": [],
   "source": [
    "#Making sure location is an int so it will be usable in Tableau\n",
    "company_share_grouped[\"Location\"]=company_share_grouped[\"Location\"].astype(int)"
   ]
  },
  {
   "cell_type": "code",
   "execution_count": 24,
   "metadata": {},
   "outputs": [],
   "source": [
    "#Saving as csv\n",
    "company_share_grouped.to_csv(\"company_share_RSP_final.csv\")"
   ]
  },
  {
   "cell_type": "code",
   "execution_count": 25,
   "metadata": {},
   "outputs": [],
   "source": [
    "#Saving as csv\n",
    "company_share_grouped_new.to_csv(\"company_share_RSP_V2.csv\")"
   ]
  },
  {
   "attachments": {},
   "cell_type": "markdown",
   "metadata": {},
   "source": [
    "Transforming Volume and RSP into intelligible data (dots used for thousands separators and decimals)"
   ]
  },
  {
   "cell_type": "code",
   "execution_count": 26,
   "metadata": {},
   "outputs": [],
   "source": [
    "market_size_copy = market_size.copy()"
   ]
  },
  {
   "cell_type": "code",
   "execution_count": 27,
   "metadata": {},
   "outputs": [],
   "source": [
    "#we ended up not using this but instead taking the data from market_share because we do not have the info of either it is in thousands or in millions which messes the data\n",
    "\n",
    "market_size_copy[\"Volume\"] = market_size_copy[\"Volume\"].astype(str)\n",
    "for index,value in market_size_copy[\"Volume\"].items():\n",
    "    a = value.split('.')\n",
    "    if a[1] == '0':\n",
    "        market_size_copy.loc[index,\"Volume\"] = float(a[0])\n",
    "    else :\n",
    "        market_size_copy.loc[index,\"Volume\"] = float(value)*1000"
   ]
  },
  {
   "cell_type": "code",
   "execution_count": 28,
   "metadata": {},
   "outputs": [],
   "source": [
    "#Same conclusion as above\n",
    "market_size_copy[\"RSP\"] = market_size_copy[\"RSP\"].astype(str)\n",
    "\n",
    "for index,value in market_size_copy[\"RSP\"].items():\n",
    "    a = value.split('.')\n",
    "    if a[1] == '0':\n",
    "        market_size_copy.loc[index,\"RSP\"] = float(a[0])\n",
    "    else :\n",
    "        market_size_copy.loc[index,\"RSP\"] = float(value)*1000\n"
   ]
  },
  {
   "attachments": {},
   "cell_type": "markdown",
   "metadata": {},
   "source": [
    "Cleaning the dataset MARKET_SIZE - we ended up using only the RSP/vol ratio"
   ]
  },
  {
   "cell_type": "code",
   "execution_count": 29,
   "metadata": {},
   "outputs": [],
   "source": [
    "market_size[\"Volume\"] = market_size[\"Volume\"].astype(float)"
   ]
  },
  {
   "cell_type": "code",
   "execution_count": 30,
   "metadata": {},
   "outputs": [],
   "source": [
    "market_size[\"RSP\"] = market_size[\"RSP\"]*1000"
   ]
  },
  {
   "cell_type": "code",
   "execution_count": 31,
   "metadata": {},
   "outputs": [],
   "source": [
    "market_size[\"Volume\"] = market_size[\"Volume\"].astype(int)\n",
    "market_size[\"RSP\"] = market_size[\"RSP\"].astype(int)"
   ]
  },
  {
   "cell_type": "code",
   "execution_count": 32,
   "metadata": {},
   "outputs": [],
   "source": [
    "market_size = market_size.dropna(axis = 0, how = 'all')"
   ]
  },
  {
   "cell_type": "code",
   "execution_count": 33,
   "metadata": {},
   "outputs": [],
   "source": [
    "market_size.rename(columns = {'RSP':'RSP (USD million)'}, inplace = True)\n",
    "market_size.rename(columns = {'Volume':'Volume (Million liters)'}, inplace = True)"
   ]
  },
  {
   "cell_type": "code",
   "execution_count": 34,
   "metadata": {},
   "outputs": [
    {
     "name": "stderr",
     "output_type": "stream",
     "text": [
      "/tmp/ipykernel_1003/124482147.py:2: UserWarning: Could not infer format, so each element will be parsed individually, falling back to `dateutil`. To ensure parsing is consistent and as-expected, please specify a format.\n",
      "  market_size['Year_date'] = pd.to_datetime(market_size['Year_date'])\n"
     ]
    }
   ],
   "source": [
    "#Transforming the year string into datetime \n",
    "market_size['Year_date'] = pd.to_datetime(market_size['Year_date'])"
   ]
  },
  {
   "cell_type": "code",
   "execution_count": 35,
   "metadata": {},
   "outputs": [
    {
     "data": {
      "text/plain": [
       "1221"
      ]
     },
     "execution_count": 35,
     "metadata": {},
     "output_type": "execute_result"
    }
   ],
   "source": [
    "#Verifying that every date is good\n",
    "a = market_size['Year_date'].dt.year-market_size['Year']\n",
    "a.isnull().count()"
   ]
  },
  {
   "cell_type": "code",
   "execution_count": 36,
   "metadata": {},
   "outputs": [
    {
     "data": {
      "text/plain": [
       "array(['USD million'], dtype=object)"
      ]
     },
     "execution_count": 36,
     "metadata": {},
     "output_type": "execute_result"
    }
   ],
   "source": [
    "#Verifying that all unit are the same, -> they are\n",
    "market_size['Unit'].unique()"
   ]
  },
  {
   "cell_type": "code",
   "execution_count": 37,
   "metadata": {},
   "outputs": [],
   "source": [
    "market_size.to_csv(\"market_size_cleaned_bis.csv\")"
   ]
  },
  {
   "cell_type": "code",
   "execution_count": 38,
   "metadata": {},
   "outputs": [],
   "source": [
    "market_size_bis = pd.read_csv(\"market_size_cleaned_bis.csv\")"
   ]
  },
  {
   "attachments": {},
   "cell_type": "markdown",
   "metadata": {},
   "source": [
    "SUBCATEGORIES"
   ]
  },
  {
   "cell_type": "code",
   "execution_count": 40,
   "metadata": {},
   "outputs": [],
   "source": [
    "subcategories = subcategories.dropna(axis = 0, how = 'all')\n",
    "subcategories.to_csv(\"subcategories_cleaned.csv\")"
   ]
  },
  {
   "cell_type": "code",
   "execution_count": 41,
   "metadata": {},
   "outputs": [],
   "source": [
    "categories = categories.dropna(axis = 0, how = 'all')\n",
    "categories.to_csv(\"categories_cleaned.csv\")"
   ]
  },
  {
   "attachments": {},
   "cell_type": "markdown",
   "metadata": {},
   "source": [
    "LOCATION"
   ]
  },
  {
   "cell_type": "code",
   "execution_count": 46,
   "metadata": {},
   "outputs": [
    {
     "data": {
      "text/html": [
       "<div>\n",
       "<style scoped>\n",
       "    .dataframe tbody tr th:only-of-type {\n",
       "        vertical-align: middle;\n",
       "    }\n",
       "\n",
       "    .dataframe tbody tr th {\n",
       "        vertical-align: top;\n",
       "    }\n",
       "\n",
       "    .dataframe thead th {\n",
       "        text-align: right;\n",
       "    }\n",
       "</style>\n",
       "<table border=\"1\" class=\"dataframe\">\n",
       "  <thead>\n",
       "    <tr style=\"text-align: right;\">\n",
       "      <th>id</th>\n",
       "      <th>Region</th>\n",
       "      <th>Country</th>\n",
       "    </tr>\n",
       "  </thead>\n",
       "  <tbody>\n",
       "    <tr>\n",
       "      <th>1</th>\n",
       "      <td>Asia Pacific</td>\n",
       "      <td>Asia Pacific</td>\n",
       "    </tr>\n",
       "    <tr>\n",
       "      <th>2</th>\n",
       "      <td>Australasia</td>\n",
       "      <td>Australasia</td>\n",
       "    </tr>\n",
       "    <tr>\n",
       "      <th>3</th>\n",
       "      <td>Eastern Europe</td>\n",
       "      <td>Eastern Europe</td>\n",
       "    </tr>\n",
       "    <tr>\n",
       "      <th>4</th>\n",
       "      <td>Latin America</td>\n",
       "      <td>Latin America</td>\n",
       "    </tr>\n",
       "    <tr>\n",
       "      <th>5</th>\n",
       "      <td>Middle East and Africa</td>\n",
       "      <td>Middle East and Africa</td>\n",
       "    </tr>\n",
       "    <tr>\n",
       "      <th>6</th>\n",
       "      <td>North America</td>\n",
       "      <td>North America</td>\n",
       "    </tr>\n",
       "    <tr>\n",
       "      <th>7</th>\n",
       "      <td>Western Europe</td>\n",
       "      <td>Western Europe</td>\n",
       "    </tr>\n",
       "    <tr>\n",
       "      <th>8</th>\n",
       "      <td>World</td>\n",
       "      <td>World</td>\n",
       "    </tr>\n",
       "  </tbody>\n",
       "</table>\n",
       "</div>"
      ],
      "text/plain": [
       "id                  Region                 Country\n",
       "1             Asia Pacific            Asia Pacific\n",
       "2              Australasia             Australasia\n",
       "3           Eastern Europe          Eastern Europe\n",
       "4            Latin America           Latin America\n",
       "5   Middle East and Africa  Middle East and Africa\n",
       "6            North America           North America\n",
       "7           Western Europe          Western Europe\n",
       "8                    World                   World"
      ]
     },
     "execution_count": 46,
     "metadata": {},
     "output_type": "execute_result"
    }
   ],
   "source": [
    "location = location.dropna(axis = 0, how = 'all')\n",
    "location.columns = location.iloc[0]\n",
    "location = location.iloc[1:]\n",
    "location.to_csv(\"location.csv\")"
   ]
  }
 ],
 "metadata": {
  "kernelspec": {
   "display_name": "venv",
   "language": "python",
   "name": "python3"
  },
  "language_info": {
   "codemirror_mode": {
    "name": "ipython",
    "version": 3
   },
   "file_extension": ".py",
   "mimetype": "text/x-python",
   "name": "python",
   "nbconvert_exporter": "python",
   "pygments_lexer": "ipython3",
   "version": "3.10.6"
  },
  "orig_nbformat": 4
 },
 "nbformat": 4,
 "nbformat_minor": 2
}
